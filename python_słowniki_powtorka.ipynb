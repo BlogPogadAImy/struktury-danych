{
  "cells": [
    {
      "cell_type": "markdown",
      "metadata": {
        "id": "view-in-github",
        "colab_type": "text"
      },
      "source": [
        "<a href=\"https://colab.research.google.com/github/BlogPogadAImy/struktury-danych/blob/main/python_s%C5%82owniki_powtorka.ipynb\" target=\"_parent\"><img src=\"https://colab.research.google.com/assets/colab-badge.svg\" alt=\"Open In Colab\"/></a>"
      ]
    },
    {
      "cell_type": "markdown",
      "source": [
        "#Podstawowe struktury danych w Pythonie"
      ],
      "metadata": {
        "id": "Pe2cK8DVSWX2"
      },
      "id": "Pe2cK8DVSWX2"
    },
    {
      "cell_type": "markdown",
      "source": [
        "Niniejszy notatnik jest uzupełnieniem artykułu na *pogad**AI**my.com*.\n",
        "\n",
        "Ta część skupia się na słownikach - definicji, opisie podstawowych metod wraz z przykładami ich stosowania.  \n",
        "\n",
        "Na końcu znajdziesz trzy zadania do samodzielnego rozwiązania.\n",
        "\n",
        "*Wskazówka:* uruchamiaj komórki po kolei skrótem **Shift + Enter**.\""
      ],
      "metadata": {
        "id": "G26v7B2FScNS"
      },
      "id": "G26v7B2FScNS"
    },
    {
      "cell_type": "markdown",
      "source": [
        "##Słownik"
      ],
      "metadata": {
        "id": "hDQiQ8BoSyxz"
      },
      "id": "hDQiQ8BoSyxz"
    },
    {
      "cell_type": "markdown",
      "source": [
        "Lista to uporządkowana, mutowalna, indeksowana (od 0) kolekcja elementów tego samego lub różnego typu danych."
      ],
      "metadata": {
        "id": "jGk-Yq9bTBqb"
      },
      "id": "jGk-Yq9bTBqb"
    },
    {
      "cell_type": "code",
      "source": [
        "#===== TWORZENIE PUSTEGO SŁOWNIKA =====\n",
        "\n",
        "# Za pomocą nawiasów kwadratowych\n",
        "moja_lista_1 = []\n",
        "print('lista stworzona za pomocą nawiasów kwadratowych: \\n', moja_lista_1)\n",
        "\n",
        "\n",
        "# Za pomocą konstruktora\n",
        "moja_lista_2 = list()\n",
        "print('lista stworzona za pomocą konstruktora: \\n', moja_lista_2)\n"
      ],
      "metadata": {
        "colab": {
          "base_uri": "https://localhost:8080/"
        },
        "id": "Sr9bJwLSSb3p",
        "outputId": "df21f61c-2885-4184-b19c-3d6c924f6785"
      },
      "execution_count": null,
      "outputs": [
        {
          "output_type": "stream",
          "name": "stdout",
          "text": [
            "lista stworzona za pomocą nawiasów kwadratowych: \n",
            " []\n",
            "lista stworzona za pomocą konstruktora: \n",
            " []\n"
          ]
        }
      ],
      "id": "Sr9bJwLSSb3p"
    },
    {
      "cell_type": "code",
      "source": [
        "#===== TWORZENIE NIEPUSTEGO SŁOWNIKA =====\n",
        "\n",
        "#Tworzenie słownika z kluczami i wartościami tego samego typu\n",
        "słownik_tego_samego_typu = {\n",
        "    'a': 1,\n",
        "    'b': 2,\n",
        "    'c': 3\n",
        "}\n",
        "print('\\nsłownik z danymi tego samego typu: \\n', słownik_tego_samego_typu)\n",
        "\n",
        "\n",
        "#Tworzenie słownika z danymi różnych typów\n",
        "#Klucze słownika nie mogą być mutowalne (np. lista) ???????????\n",
        "słownik_różnych_typów = {\n",
        "    1 : 1,\n",
        "    'kot': 0.0001,\n",
        "    3.14: 'wartość'}\n",
        "print('\\nsłownik z danymi różnych typów: \\n', słownik_różnych_typów)\n"
      ],
      "metadata": {
        "colab": {
          "base_uri": "https://localhost:8080/"
        },
        "id": "WyH2jjD8Vo3s",
        "outputId": "21271619-32ad-4641-a90b-d9e0774119d2"
      },
      "execution_count": 12,
      "outputs": [
        {
          "output_type": "stream",
          "name": "stdout",
          "text": [
            "\n",
            "słownik z danymi tego samego typu: \n",
            " {'a': 1, 'b': 2, 'c': 3}\n",
            "\n",
            "słownik z danymi różnych typów: \n",
            " {1: 1, 'kot': 0.0001, 3.14: 'wartość'}\n"
          ]
        }
      ],
      "id": "WyH2jjD8Vo3s"
    },
    {
      "cell_type": "code",
      "source": [
        "#===== tworzenie słownika - dla zaawansowanych =====\n",
        "\n",
        "# Tworzenie słownika z listy krotek (ang. tuple)\n",
        "słownik_z_krotek = dict([\n",
        "    ('a', 1),\n",
        "    ('b', 2),\n",
        "    ('c', 3)\n",
        "])\n",
        "print('\\nsłownik z krotek: \\n', słownik_z_krotek)\n",
        "\n",
        "\n",
        "#Tworzenie słownika dict() z argumentami nazwanymi\n",
        "słownik = dict(a=1, b=2, c=3)\n",
        "print('\\nsłownik z argumentami nazwanymi: \\n', słownik)\n",
        "\n",
        "\n",
        "#Tworzenie słownika z pętlą - jeśli na którejś liście było więcej elementów, zostają zignorowane.\n",
        "klucze   = ['a', 'b', 'c']\n",
        "wartości = [1, 2, 3, 4, 5, 6]\n",
        "słownik = {k: w for k, w in zip(klucze, wartości)}\n",
        "print('\\nsłownik stworzony z pętli przez dwie listy: \\n', słownik)\n",
        "\n",
        "#Tworzenie słownika z listy kluczy z wartością domyślną\n",
        "słownik = dict.fromkeys(['kot', 'pies', 'jeż'], 0)\n",
        "print('\\nsłownik z listy z wartością domyślną: \\n', słownik)"
      ],
      "metadata": {
        "colab": {
          "base_uri": "https://localhost:8080/"
        },
        "id": "usAZmLvTUDf-",
        "outputId": "efca7e9d-d5c2-4217-fb65-3d230ec6a712"
      },
      "execution_count": 11,
      "outputs": [
        {
          "output_type": "stream",
          "name": "stdout",
          "text": [
            "\n",
            "słownik z krotek: \n",
            " {'a': 1, 'b': 2, 'c': 3}\n",
            "\n",
            "słownik z argumentami nazwanymi: \n",
            " {'a': 1, 'b': 2, 'c': 3}\n",
            "\n",
            "słownik stworzony z pętli przez dwie listy: \n",
            " {'a': 1, 'b': 2, 'c': 3}\n",
            "\n",
            "słownik z listy z wartością domyślną: \n",
            " {'kot': 0, 'pies': 0, 'jeż': 0}\n"
          ]
        }
      ],
      "id": "usAZmLvTUDf-"
    },
    {
      "cell_type": "code",
      "source": [
        "#===== DODAWANIE/ZAMIENIANIE ELEMENTU DO SŁOWNIKA =====\n",
        "\n",
        "#dodawanie do nieistniejącego klucza\n",
        "print('\\n=== Dodawanie z nieistniającym kluczem ===')\n",
        "słownik = {'a': 1, 'b': 2}\n",
        "słownik['c'] = 3\n",
        "print('oryginalny słownik:\\n', słownik)\n",
        "print('słownik po przypisaniu wartości 3 do nieistniejącego klucza \"c\":\\n', słownik)\n",
        "\n",
        "#jeśli klucz istnieje, wartość zostanie zastąpiona\n",
        "print('\\n=== Dodawanie z istniającym kluczem ===')\n",
        "słownik = {'a': 1, 'b': 2, 'c': 3}\n",
        "print('oryginalny słownik:\\n', słownik)\n",
        "słownik['c'] = 999\n",
        "print('słownik po przypisaniu wartości 999 do klucza \"c\" :\\n', słownik)\n",
        "\n",
        "\n",
        "#update() -> dodaje wartość, jeśli klucz nie istnieje\n",
        "słownik = {'a': 1, 'b': 2}\n",
        "print('\\n=== Aktualizowanie z nieistniającym kluczem ===')\n",
        "print('oryginalny słownik:\\n', słownik)\n",
        "słownik.update({'c': 3, 'd': 4})\n",
        "print('słownik po dodaniu par c:3 i d:4 :\\n', słownik)\n",
        "\n",
        "#update() -> aktualizuje wartość, jeśli klucz istnieje\n",
        "słownik = {'a': 1, 'b': 2, 'c': 3, 'd': 4}\n",
        "print('\\n=== Aktualizowanie z istniającym kluczem ===')\n",
        "print('oryginalny słownik:\\n', słownik)\n",
        "słownik.update({'c': 999, 'd': 999})\n",
        "print('słownik po dodaniu par c:999 i d:999 :\\n', słownik)\n"
      ],
      "metadata": {
        "colab": {
          "base_uri": "https://localhost:8080/"
        },
        "id": "MBAs1sz6Wxvt",
        "outputId": "944ad7ed-f588-4f8d-d07b-6fcb11f13655"
      },
      "execution_count": 22,
      "outputs": [
        {
          "output_type": "stream",
          "name": "stdout",
          "text": [
            "\n",
            "=== Dodawanie z nieistniającym kluczem ===\n",
            "oryginalny słownik:\n",
            " {'a': 1, 'b': 2, 'c': 3}\n",
            "słownik po przypisaniu wartości 3 do nieistniejącego klucza \"c\":\n",
            " {'a': 1, 'b': 2, 'c': 3}\n",
            "\n",
            "=== Dodawanie z istniającym kluczem ===\n",
            "oryginalny słownik:\n",
            " {'a': 1, 'b': 2, 'c': 3}\n",
            "słownik po przypisaniu wartości 999 do klucza \"c\" :\n",
            " {'a': 1, 'b': 2, 'c': 999}\n",
            "\n",
            "=== Aktualizowanie z nieistniającym kluczem ===\n",
            "oryginalny słownik:\n",
            " {'a': 1, 'b': 2}\n",
            "słownik po dodaniu par c:3 i d:4 :\n",
            " {'a': 1, 'b': 2, 'c': 3, 'd': 4}\n",
            "\n",
            "=== Aktualizowanie z istniającym kluczem ===\n",
            "oryginalny słownik:\n",
            " {'a': 1, 'b': 2, 'c': 3, 'd': 4}\n",
            "słownik po dodaniu par c:999 i d:999 :\n",
            " {'a': 1, 'b': 2, 'c': 999, 'd': 999}\n"
          ]
        }
      ],
      "id": "MBAs1sz6Wxvt"
    },
    {
      "cell_type": "code",
      "source": [
        "#===== dodawanie/aktualizowanie elementów - dla zaawansowanych =====\n",
        "\n",
        "\n",
        "#setdefault() -> dodaje wartość TYLKO JEŚLI KLUCZ NIE ISTNIEJE, zwraca wartość klucza\n",
        "print('\\n=== setdefault() jeśli klucz nie istnieje ===')\n",
        "słownik_bez_b = {'a': 1}\n",
        "print('oryginalny słownik:\\n', słownik_bez_b)\n",
        "wartość = słownik_bez_b.setdefault('b', 2)\n",
        "print('słownik po wywołaniu setdefault() nieistniejącego klucza i wartości:\\n', słownik_bez_b)\n",
        "print('wartość dodana do słownika:\\n', wartość)\n",
        "\n",
        "\n",
        "#setdefault() -> JEŚLI KLUCZ ISTNIEJE, zwraca wartość klucza, nie zmienia słownika\n",
        "print('\\n=== setdefault() jeśli klucz istnieje ===')\n",
        "słownik_z_b = {'a': 1, 'b': 2}\n",
        "print('oryginalny słownik:\\n', słownik_z_b)\n",
        "wartość = słownik_z_b.setdefault('b', 999)\n",
        "print('Po wywołaniu setdefault(b, 999) do istniejącego klucza:\\n', słownik_z_b)\n",
        "print('wartość przypisana do istniejącego klucza:\\n', wartość)\n",
        "\n",
        "\n",
        "#Tworzenie nowego słownika z rozszerzeniem za pomocą operatora | (od Pythona 3.9)\n",
        "print('\\n=== Tworzenie słownik z dwóch słowników za pomocą operatora | ===')\n",
        "słownik_1 = {'a': 1}\n",
        "print('pierwszy słownik:\\n', słownik_1)\n",
        "słownik_2 = słownik_1 | {'b': 2}\n",
        "print('słownik z połączenia słownika_1 i {b:2}:\\n', słownik_2)\n"
      ],
      "metadata": {
        "colab": {
          "base_uri": "https://localhost:8080/"
        },
        "id": "aRlgoEPdYba6",
        "outputId": "aba7416b-9c98-4334-89e7-3dd553605aeb"
      },
      "execution_count": 24,
      "outputs": [
        {
          "output_type": "stream",
          "name": "stdout",
          "text": [
            "\n",
            "=== setdefault() jeśli klucz nie istnieje ===\n",
            "oryginalny słownik:\n",
            " {'a': 1}\n",
            "słownik po wywołaniu setdefault() nieistniejącego klucza i wartości:\n",
            " {'a': 1, 'b': 2}\n",
            "wartość dodana do słownika:\n",
            " 2\n",
            "\n",
            "=== setdefault() jeśli klucz istnieje ===\n",
            "oryginalny słownik:\n",
            " {'a': 1, 'b': 2}\n",
            "Po wywołaniu setdefault(b, 999) do istniejącego klucza:\n",
            " {'a': 1, 'b': 2}\n",
            "wartość przypisana do istniejącego klucza:\n",
            " 2\n",
            "\n",
            "=== Tworzenie słownik z dwóch słowników za pomocą operatora | ===\n",
            "pierwszy słownik:\n",
            " {'a': 1}\n",
            "słownik z połączenia słownika_1 i {b:2}:\n",
            " {'a': 1, 'b': 2}\n"
          ]
        }
      ],
      "id": "aRlgoEPdYba6"
    },
    {
      "cell_type": "code",
      "source": [
        "#===== WYCIĄGANIE ELEMENTU ZE SŁOWNIKA =====\n",
        "\n",
        "#wyciąganie po kluczu\n",
        "print('\\n=== Wyciąganie wartości po kluczu ===')\n",
        "słownik = {'a': 1, 'b': 2}\n",
        "print('słownik:\\n', słownik)\n",
        "\n",
        "wartość = słownik['a']\n",
        "print('wartość z klucza \"a\":\\n', wartość)\n",
        "\n",
        "try:\n",
        "  wartość = słownik['c']\n",
        "except Exception as e:\n",
        "  print('!!! UWAGA!!! \\nWyciąganie po kluczu od nieistniejącego klucza powoduje KeyError.')\n",
        "\n",
        "#wyciąganie za pomocą get()\n",
        "#Nie powoduje KeyError, jeśli nie ma klucza, zwraca None lub wartość domyślną\n",
        "print('\\n=== Wyciąganie wartości za pomocą get() ===')\n",
        "print('słownik:\\n', słownik)\n",
        "słownik = {'a': 1, 'b': 2}\n",
        "wartość_1 = słownik.get('a')\n",
        "print('Wartość od istniejącego klucza:\\n', wartość_1)\n",
        "wartość_2 = słownik.get('c')\n",
        "print('Wartość None od istniejącego klucza:\\n', wartość_2)\n",
        "wartość_3 = słownik.get('c', 999)\n",
        "print('Wartość domyślna od nieistniejącego klucza:\\n', wartość_3)\n"
      ],
      "metadata": {
        "colab": {
          "base_uri": "https://localhost:8080/"
        },
        "id": "xOSBkEeidkp0",
        "outputId": "6cc866a0-3646-4e5c-9380-55e0195bac7e"
      },
      "id": "xOSBkEeidkp0",
      "execution_count": 35,
      "outputs": [
        {
          "output_type": "stream",
          "name": "stdout",
          "text": [
            "\n",
            "=== Wyciąganie wartości po kluczu ===\n",
            "słownik:\n",
            " {'a': 1, 'b': 2}\n",
            "wartość z klucza \"a\":\n",
            " 1\n",
            "!!! UWAGA!!! \n",
            "Wyciąganie po kluczu od nieistniejącego klucza powoduje KeyError.\n",
            "\n",
            "=== Wyciąganie wartości za pomocą get() ===\n",
            "słownik:\n",
            " {'a': 1, 'b': 2}\n",
            "Wartość od istniejącego klucza:\n",
            " 1\n",
            "Wartość None od istniejącego klucza:\n",
            " None\n",
            "Wartość domyślna od nieistniejącego klucza:\n",
            " 999\n"
          ]
        }
      ]
    },
    {
      "cell_type": "code",
      "source": [
        "#===== Wyciąganie elementów ze słownika - dla zaawansowanych =====\n",
        "\n",
        "#Wyciąganie wartości i jednoczesne usuwanie\n",
        "print('\\n=== Wyciąganie wartości za pomocą pop() ===')\n",
        "słownik = {'a': 1, 'b': 2}\n",
        "print('słownik:\\n', słownik)\n",
        "\n",
        "wartość = słownik.pop('a')\n",
        "print('wartość z klucza \"a\":\\n', wartość)\n",
        "\n",
        "try:\n",
        "  wartość = słownik.pop('c')\n",
        "except Exception as e:\n",
        "  print('!!! UWAGA!!! \\nMetoda pop() z nieistniejącym kluczem powoduje KeyError.')\n",
        "\n",
        "wartość = słownik.pop('c', 0)\n",
        "print('Wartość domyślna od nieistniejącego klucza:\\n', wartość)\n",
        "\n",
        "#Wyciąganie ostatniego w kolejności klucza, wartości i jednoczesne usuwanie ze słownika\n",
        "print('\\n=== Wyciąganie wartości za popitem() ===')\n",
        "słownik = {'a': 1, 'b': 2}\n",
        "print('słownik:\\n', słownik)\n",
        "klucz, wartość = słownik.popitem()\n",
        "\n",
        "print('Klucz i wartość wyciągnięte za pomocą popitem:\\n', klucz, wartość)\n",
        "print('Słownik po wywołaniu metody popitem:\\n', słownik)\n"
      ],
      "metadata": {
        "colab": {
          "base_uri": "https://localhost:8080/"
        },
        "id": "fl3Q9SDIauKR",
        "outputId": "acec8520-b9fb-40fc-ce1a-347711cab06e"
      },
      "execution_count": 37,
      "outputs": [
        {
          "output_type": "stream",
          "name": "stdout",
          "text": [
            "\n",
            "=== Wyciąganie wartości za pomocą pop() ===\n",
            "słownik:\n",
            " {'a': 1, 'b': 2}\n",
            "wartość z klucza \"a\":\n",
            " 1\n",
            "!!! UWAGA!!! \n",
            "Metoda pop() z nieistniejącym kluczem powoduje KeyError.\n",
            "Wartość domyślna od nieistniejącego klucza:\n",
            " 0\n",
            "\n",
            "=== Wyciąganie wartości za popitem() ===\n",
            "słownik:\n",
            " {'a': 1, 'b': 2}\n",
            "Klucz i wartość wyciągnięte za pomocą popitem:\n",
            " b 2\n",
            "Słownik po wywołaniu metody popitem:\n",
            " {'a': 1}\n"
          ]
        }
      ],
      "id": "fl3Q9SDIauKR"
    },
    {
      "cell_type": "code",
      "source": [
        "#===== ITEROWANIE =====\n",
        "\n",
        "#iterowanie po kluczach, wyświetlanie kluczy\n",
        "print('\\n=== Iterowanie po kluczach, wyświetlanie kluczy ===')\n",
        "słownik = {'a': 1, 'b': 2, 'c': 3}\n",
        "print('oryginalny słownik: \\n', słownik)\n",
        "\n",
        "for klucz in słownik:\n",
        "    print(klucz)\n",
        "\n",
        "\n",
        "#iterowanie po wartościach, wyświetlanie wartości\n",
        "print('\\n=== Iterowanie po wartościach, wyświetlanie wartości ===')\n",
        "for wartość in słownik.values():\n",
        "    print(wartość)\n",
        "\n",
        "\n",
        "#iterowanie po elementach, wyświetlanie klucza i wartości\n",
        "print('\\n=== Iterowanie po elementach, wyświetlanie klucza i wartości ===')\n",
        "for klucz, wartość in słownik.items():\n",
        "    print(f\"{klucz} -> {wartość}\")\n",
        "\n",
        "\n",
        "\n",
        "#iterowanie po indeksach, wyświetlanie klucza i wartości\n",
        "print('\\n=== Iterowanie po indeksach, wyświetlanie indeksu, klucza i wartości ===')\n",
        "for idx, (k, v) in enumerate(słownik.items(), start=1):\n",
        "  print('indeks:', idx, 'klucz:', k, 'wartość:', v)\n",
        "\n",
        "\n",
        "#iterowanie po posortowanych kluczach, wyświetlanie klucza i wartości\n",
        "print('\\n=== Iterowanie po posortowanych kluczach, wyświetlanie klucza i wartości ===')\n",
        "for k in sorted(słownik):\n",
        "    print('klucz:', k, 'wartość:', słownik[k])"
      ],
      "metadata": {
        "colab": {
          "base_uri": "https://localhost:8080/"
        },
        "id": "8QLcsdhNbJ0l",
        "outputId": "d234e80b-1b6c-44c3-d010-e08c115c0072"
      },
      "execution_count": 45,
      "outputs": [
        {
          "output_type": "stream",
          "name": "stdout",
          "text": [
            "\n",
            "=== Iterowanie po kluczach, wyświetlanie kluczy ===\n",
            "oryginalny słownik: \n",
            " {'a': 1, 'b': 2, 'c': 3}\n",
            "a\n",
            "b\n",
            "c\n",
            "\n",
            "=== Iterowanie po wartościach, wyświetlanie wartości ===\n",
            "1\n",
            "2\n",
            "3\n",
            "\n",
            "=== Iterowanie po elementach, wyświetlanie klucza i wartości ===\n",
            "a -> 1\n",
            "b -> 2\n",
            "c -> 3\n",
            "\n",
            "=== Iterowanie po indeksach, wyświetlanie indeksu, klucza i wartości ===\n",
            "indeks: 1 klucz: a wartość: 1\n",
            "indeks: 2 klucz: b wartość: 2\n",
            "indeks: 3 klucz: c wartość: 3\n",
            "\n",
            "=== Iterowanie po posortowanych kluczach, wyświetlanie indeksu, klucza i wartości ===\n",
            "klucz: a wartość: 1\n",
            "klucz: b wartość: 2\n",
            "klucz: c wartość: 3\n"
          ]
        }
      ],
      "id": "8QLcsdhNbJ0l"
    },
    {
      "cell_type": "code",
      "source": [
        "#===== USUWANIE ELEMENTÓW ZE SŁOWNIKA =====\n",
        "\n",
        "#iterowanie po kluczach, wyświetlanie kluczy\n",
        "print('\\n=== Iterowanie po kluczach, wyświetlanie kluczy ===')\n",
        "słownik = {'a': 1, 'b': 2, 'c': 3}\n",
        "print('oryginalny słownik: \\n', słownik)\n",
        "\n"
      ],
      "metadata": {
        "id": "1LbdBBlVkzIm"
      },
      "id": "1LbdBBlVkzIm",
      "execution_count": null,
      "outputs": []
    },
    {
      "cell_type": "code",
      "source": [
        "#===== PŁYTKA KOPIA SŁOWNIKA =====\n",
        "\n",
        "#tworzenie płytkiej kopii z copy()\n",
        "print('\\n=== Płytka kopia słownika z copy() ===')\n",
        "import copy\n",
        "\n",
        "słownik = {'x': 1, 'y': [10,20]}\n",
        "płytka_kopia = słownik.copy()\n",
        "print('oryginalny słownik i kopia: \\n', słownik, płytka_kopia)\n",
        "\n",
        "słownik['x'] = 999\n",
        "print('\\noryginalny słownik po aktualizacji: \\n', słownik)\n",
        "print('kopia po aktualizacji: \\n', płytka_kopia)\n",
        "#kopia nie zmieniła się, ponieważ liczby całkowite (integer) są niemutowalne.\n",
        "\n",
        "\n",
        "#problem z płytkiej kopii słownika\n",
        "słownik = {'x': 1, 'y': [10,20]}\n",
        "słownik['y'][0] = 'kot'\n",
        "print('\\noryginalny słownik po aktualizacji: \\n', słownik)\n",
        "print('kopia po aktualizacji: \\n', płytka_kopia)\n",
        "#kopia zmieniła się, choć aktualizowaliśmy tylko oryginalny słownik, ponieważ lista jest mutowalna.\n"
      ],
      "metadata": {
        "colab": {
          "base_uri": "https://localhost:8080/"
        },
        "id": "yZQj6TIpk7o3",
        "outputId": "fac933eb-59d0-4694-856b-05b5875cf333"
      },
      "id": "yZQj6TIpk7o3",
      "execution_count": 53,
      "outputs": [
        {
          "output_type": "stream",
          "name": "stdout",
          "text": [
            "\n",
            "=== Płytka kopia słownika z copy() ===\n",
            "oryginalny słownik i kopia: \n",
            " {'x': 1, 'y': [10, 20]} {'x': 1, 'y': [10, 20]}\n",
            "\n",
            "oryginalny słownik po aktualizacji: \n",
            " {'x': 999, 'y': [10, 20]}\n",
            "kopia po aktualizacji: \n",
            " {'x': 1, 'y': [10, 20]}\n",
            "\n",
            "oryginalny słownik po aktualizacji: \n",
            " {'x': 1, 'y': ['kot', 20]}\n",
            "kopia po aktualizacji: \n",
            " {'x': 1, 'y': [10, 20]}\n"
          ]
        }
      ]
    },
    {
      "cell_type": "code",
      "source": [
        "#===== GŁĘBOKA KOPIA SŁOWNIKA =====\n",
        "\n",
        "import copy\n",
        "\n",
        "print('\\n=== Głęboka kopia słownika z deepcopy() ===')\n",
        "słownik = {'x': 1, 'y': [10,20]}\n",
        "głęboka_kopia = copy.deepcopy(słownik)\n",
        "print('\\noryginalny słownik: \\n', słownik)\n",
        "print('kopia: \\n', głęboka_kopia)\n",
        "\n",
        "\n",
        "# Modyfikacja zagnieżdżonej listy\n",
        "słownik['y'].append(30)\n",
        "print('\\noryginalny słownik po aktualizacji: \\n', słownik)\n",
        "print('kopia po aktualizacji: \\n', głęboka_kopia)\n",
        "#Kopia nie zmienia się, ponieważ skopiowano wszystkie elementy mutowalne, a nie tylko ich referencje.\n"
      ],
      "metadata": {
        "colab": {
          "base_uri": "https://localhost:8080/"
        },
        "id": "rf2uYG1Gk-qH",
        "outputId": "e01df1dc-aa61-44a8-8c12-4b2638c47aa0"
      },
      "id": "rf2uYG1Gk-qH",
      "execution_count": 54,
      "outputs": [
        {
          "output_type": "stream",
          "name": "stdout",
          "text": [
            "\n",
            "=== Głęboka kopia słownika z deepcopy() ===\n",
            "\n",
            "oryginalny słownik: \n",
            " {'x': 1, 'y': [10, 20]}\n",
            "kopia: \n",
            " {'x': 1, 'y': [10, 20]}\n",
            "\n",
            "oryginalny słownik po aktualizacji: \n",
            " {'x': 1, 'y': [10, 20, 30]}\n",
            "kopia po aktualizacji: \n",
            " {'x': 1, 'y': [10, 20]}\n"
          ]
        }
      ]
    },
    {
      "cell_type": "markdown",
      "source": [
        "#ZADANIA"
      ],
      "metadata": {
        "id": "pB_-bM-f9XZl"
      },
      "id": "pB_-bM-f9XZl"
    },
    {
      "cell_type": "markdown",
      "source": [
        "Zrób poniższe zadania, żeby utrwalić zdobytą wiedzę.\n",
        "\n",
        "W razie potrzeby korzystaj w powyższej ściągawki."
      ],
      "metadata": {
        "id": "nKz02a809Zhj"
      },
      "id": "nKz02a809Zhj"
    },
    {
      "cell_type": "code",
      "source": [
        "#===== Zadanie nr 1 =====\n",
        "\n",
        "#Usuń wszystkie duplikaty z listy.\n",
        "lista = ['To', 'be', 'or', 'not', 'to', 'be', '.']\n"
      ],
      "metadata": {
        "id": "e7t5hao19mau"
      },
      "execution_count": null,
      "outputs": [],
      "id": "e7t5hao19mau"
    },
    {
      "cell_type": "code",
      "source": [
        "#===== Zadanie nr 2 =====\n",
        "\n",
        "#Zrób głęboką kopię słownika z zagnieżdżoną listą ['kot', 'pies'].\n",
        "#Następnie dodaj element 'małpa' na koniec listy.\n",
        "#Sprawdź, czy lista w kopii słownika jest równa liście z oryginału słownika.\n"
      ],
      "metadata": {
        "id": "BdHgZKSA-Uah"
      },
      "execution_count": null,
      "outputs": [],
      "id": "BdHgZKSA-Uah"
    },
    {
      "cell_type": "code",
      "source": [
        "#===== Zadanie nr 3 =====\n",
        "\n",
        "#Utwórz słownik 5 zwierząt, gdzie kluczem będzie nazwa zwierzęcia, a wartością liczba jego kończyn.\n",
        "#Przeiteruj przez indeksy słownika i wyświetl klucze i wartości.\n"
      ],
      "metadata": {
        "id": "ofnlJz52-rcA"
      },
      "execution_count": null,
      "outputs": [],
      "id": "ofnlJz52-rcA"
    }
  ],
  "metadata": {
    "colab": {
      "provenance": [],
      "include_colab_link": true
    },
    "language_info": {
      "name": "python"
    },
    "kernelspec": {
      "name": "python3",
      "display_name": "Python 3"
    }
  },
  "nbformat": 4,
  "nbformat_minor": 5
}