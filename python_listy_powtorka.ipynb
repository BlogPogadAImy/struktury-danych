{
  "nbformat": 4,
  "nbformat_minor": 0,
  "metadata": {
    "colab": {
      "provenance": [],
      "authorship_tag": "ABX9TyNglJMY+/95DAUH9lM5gvKg",
      "include_colab_link": true
    },
    "kernelspec": {
      "name": "python3",
      "display_name": "Python 3"
    },
    "language_info": {
      "name": "python"
    }
  },
  "cells": [
    {
      "cell_type": "markdown",
      "metadata": {
        "id": "view-in-github",
        "colab_type": "text"
      },
      "source": [
        "<a href=\"https://colab.research.google.com/github/BlogPogadAImy/struktury-danych/blob/main/python_listy_powtorka.ipynb\" target=\"_parent\"><img src=\"https://colab.research.google.com/assets/colab-badge.svg\" alt=\"Open In Colab\"/></a>"
      ]
    },
    {
      "cell_type": "markdown",
      "source": [
        "# Podstawowe struktury danych w Pythonie"
      ],
      "metadata": {
        "id": "Pe2cK8DVSWX2"
      }
    },
    {
      "cell_type": "markdown",
      "source": [
        "Niniejszy notatnik jest uzupełnieniem artykułu na *pogad**AI**my.com*.\n",
        "\n",
        "Znajdziesz tu krótkie definicje list, słowników i zestawów wraz z opisem podstawowych metod i przykładami ich stosowania.  \n",
        "\n",
        "Na końcu znajdziesz trzy zadania do samodzielnego rozwiązania.\n",
        "\n",
        "*Wskazówka:* uruchamiaj komórki po kolei skrótem **Shift + Enter**.\""
      ],
      "metadata": {
        "id": "G26v7B2FScNS"
      }
    },
    {
      "cell_type": "markdown",
      "source": [
        "##Lista"
      ],
      "metadata": {
        "id": "hDQiQ8BoSyxz"
      }
    },
    {
      "cell_type": "markdown",
      "source": [
        "Lista to uporządkowana, mutowalna, indeksowana (od 0) kolekcja elementów tego samego lub różnego typu danych."
      ],
      "metadata": {
        "id": "jGk-Yq9bTBqb"
      }
    },
    {
      "cell_type": "code",
      "source": [
        "#===== TWORZENIE PUSTEJ LISTY =====\n",
        "\n",
        "# Za pomocą nawiasów kwadratowych\n",
        "moja_lista_1 = []\n",
        "print('lista stworzona za pomocą nawiasów kwadratowych: \\n', moja_lista_1)\n",
        "\n",
        "\n",
        "# Za pomocą konstruktora\n",
        "moja_lista_2 = list()\n",
        "print('lista stworzona za pomocą konstruktora: \\n', moja_lista_2)\n"
      ],
      "metadata": {
        "colab": {
          "base_uri": "https://localhost:8080/"
        },
        "id": "Sr9bJwLSSb3p",
        "outputId": "df21f61c-2885-4184-b19c-3d6c924f6785"
      },
      "execution_count": 15,
      "outputs": [
        {
          "output_type": "stream",
          "name": "stdout",
          "text": [
            "lista stworzona za pomocą nawiasów kwadratowych: \n",
            " []\n",
            "lista stworzona za pomocą konstruktora: \n",
            " []\n"
          ]
        }
      ]
    },
    {
      "cell_type": "code",
      "source": [
        "#===== TWORZENIE NIEPUSTEJ LISTY =====\n",
        "\n",
        "# Tworzenie listy tego samego typu\n",
        "lista_tego_samego_typu = [1, 2, 3]\n",
        "print('lista tego samego typu: \\n', lista_tego_samego_typu)\n",
        "\n",
        "\n",
        "# Tworzenie listy mieszanych typów\n",
        "lista_mieszanych_typów = [1, \"kot\", 3.14, [2, 4]]\n",
        "print('lista mieszanych typów: \\n', lista_mieszanych_typów)\n"
      ],
      "metadata": {
        "colab": {
          "base_uri": "https://localhost:8080/"
        },
        "id": "WyH2jjD8Vo3s",
        "outputId": "2d7d9a75-9b5d-44eb-da9c-4f9632633c67"
      },
      "execution_count": 16,
      "outputs": [
        {
          "output_type": "stream",
          "name": "stdout",
          "text": [
            "lista tego samego typu: \n",
            " [1, 2, 3]\n",
            "lista mieszanych typów: \n",
            " [1, 'kot', 3.14, [2, 4]]\n"
          ]
        }
      ]
    },
    {
      "cell_type": "code",
      "source": [
        "#===== tworzenie list - dla zaawansowanych =====\n",
        "\n",
        "# Tworzenie listy z krotki (ang. tuple)\n",
        "lista_z_krotki = list((1, 2, 3))\n",
        "print('lista z krotki: \\n', lista_z_krotki)\n",
        "\n",
        "\n",
        "# Tworzenie listy z zakresu liczb (zauważ, że parametr \"od\" jest włączony do listy, a parametr \"do\" nie jest włączony do listy)\n",
        "lista_z_zakresu = list(range(1, 10))\n",
        "print('lista z zakresu: \\n', lista_z_zakresu)\n",
        "\n",
        "\n",
        "# Tworzenie listy ze stringa: każdy znak to element\n",
        "lista_ze_stringa = list(\"abc\")\n",
        "print('lista ze stringa: \\n', lista_ze_stringa)\n"
      ],
      "metadata": {
        "colab": {
          "base_uri": "https://localhost:8080/"
        },
        "id": "usAZmLvTUDf-",
        "outputId": "57d87f83-6ed6-4047-c125-86cf20545e48"
      },
      "execution_count": 17,
      "outputs": [
        {
          "output_type": "stream",
          "name": "stdout",
          "text": [
            "lista z krotki: \n",
            " [1, 2, 3]\n",
            "lista z zakresu: \n",
            " [1, 2, 3, 4, 5, 6, 7, 8, 9]\n",
            "lista ze stringa: \n",
            " ['a', 'b', 'c']\n"
          ]
        }
      ]
    },
    {
      "cell_type": "code",
      "source": [
        "#===== DODAWANIE ELEMENTU DO LISTY =====\n",
        "\n",
        "# append(x)\n",
        "lista = [1, 2, 3]\n",
        "lista.append(4)\n",
        "print('lista po dodaniu 4 za pomocą append(): \\n', lista)\n",
        "\n",
        "\n",
        "# extend(iterable)\n",
        "lista = [1, 2, 3]\n",
        "lista.extend([4, 5])\n",
        "print('lista po dodaniu obiektu iterowanego  - tu drugiej listy [4,5] za pomocą extend(): \\n', lista)\n",
        "\n",
        "\n",
        "# insert(i, x) - wstawia element x na pozycję o indeksie i, przesuwając pozostałe elementy w prawo.\n",
        "lista = [1, 2, 3]\n",
        "lista.insert(1, 99)\n",
        "print('lista po wsadzeniu obiektu na dany indeks za pomocą insert(): \\n', lista)\n",
        "\n"
      ],
      "metadata": {
        "colab": {
          "base_uri": "https://localhost:8080/"
        },
        "id": "MBAs1sz6Wxvt",
        "outputId": "db3ec829-4ba8-48a1-970d-4bab7a1e550d"
      },
      "execution_count": 19,
      "outputs": [
        {
          "output_type": "stream",
          "name": "stdout",
          "text": [
            "lista po dodaniu 4 za pomocą append(): \n",
            " [1, 2, 3, 4]\n",
            "lista po dodaniu obiektu iterowanego  - tu drugiej listy [4,5] za pomocą extend(): \n",
            " [1, 2, 3, 4, 5]\n",
            "lista po wsadzeniu obiektu na dany indeks za pomocą insert(): \n",
            " [1, 99, 2, 3]\n"
          ]
        }
      ]
    },
    {
      "cell_type": "code",
      "source": [
        "#===== dodawanie elementów - dla zaawansowanych =====\n",
        "\n",
        "#dodawanie listy do listy za pomocą operatora logicznego -> x += y to to samo x = x + y:\n",
        "lista = [1, 2]\n",
        "lista += [3, 4]\n",
        "print('lista po dodaniu drugiej listy za pomocą operatora logicznego +=\\n', lista)\n",
        "\n",
        "\n",
        "#dodawanie elementu do listy i tworzenie nowej listy:\n",
        "lista_a = [1, 2]\n",
        "lista_b = lista_a + [3]\n",
        "print('\\n=== dodawanie elementu do listy i tworzenie nowej listy ===')\n",
        "print('oryginalna lista:\\n', lista_a)\n",
        "print('nowa lista po dodaniu drugiej listy z jednym elementem:\\n', lista_b)\n",
        "\n",
        "\n",
        "# W Pythonie gwiazdka * w literale listy to tzw. iterable unpacking.\n",
        "# To dosłownie oznacza: weź wszystkie elementy z podanego obiektu i „wstrzyknij” je tutaj jako osobne elementy.\n",
        "lista_a = [1, 2]\n",
        "lista_b = [*lista_a, 3, 4]\n",
        "print('\\n=== wstrzyknięcie elementów listy do nowej listy ===')\n",
        "print('oryginalna lista:\\n', lista_a)\n",
        "print('nowa lista po wstrzyknięciu pierwszej listy:\\n', lista_b)\n"
      ],
      "metadata": {
        "colab": {
          "base_uri": "https://localhost:8080/"
        },
        "id": "aRlgoEPdYba6",
        "outputId": "1c8b7a4b-da8c-42c4-f324-41ba321856c9"
      },
      "execution_count": 26,
      "outputs": [
        {
          "output_type": "stream",
          "name": "stdout",
          "text": [
            "lista po dodaniu drugiej listy za pomocą operatora logicznego +=\n",
            " [1, 2, 3, 4]\n",
            "\n",
            "=== dodawanie elementu do listy i tworzenie nowej listy ===\n",
            "oryginalna lista:\n",
            " [1, 2]\n",
            "nowa lista po dodaniu drugiej listy z jednym elementem:\n",
            " [1, 2, 3]\n",
            "\n",
            "=== wstrzyknięcie elementów listy do nowej listy ===\n",
            "oryginalna lista:\n",
            " [1, 2]\n",
            "nowa lista po wstrzyknięciu pierwszej listy:\n",
            " [1, 2, 3, 4]\n"
          ]
        }
      ]
    },
    {
      "cell_type": "code",
      "source": [
        "#===== ZASTĘPOWANIE ELEMENTU NA LIŚCIE =====\n",
        "\n",
        "\n",
        "# Przypisanie przez indeks\n",
        "lista = [10, 20, 30, 40]\n",
        "lista[2] = 99\n",
        "print('\\n=== Przypisanie elementu 99 na indeksie 2 (czyli trzeci z kolei) ===')\n",
        "print('lista po przypisaniu:\\n', lista)\n",
        "\n",
        "\n",
        "# Przypisanie przez ujemny indeks\n",
        "lista[-1] = 0\n",
        "print('\\n=== Przypisanie elementu 0 na indeksie -1 (czyli ostatni) ===')\n",
        "print('lista po przypisaniu:\\n', lista)"
      ],
      "metadata": {
        "colab": {
          "base_uri": "https://localhost:8080/"
        },
        "id": "fl3Q9SDIauKR",
        "outputId": "cb35028e-07f4-4a85-dfa4-a21de779740a"
      },
      "execution_count": 28,
      "outputs": [
        {
          "output_type": "stream",
          "name": "stdout",
          "text": [
            "\n",
            "=== Przypisanie elementu 99 na indeksie 2 (czyli trzeci z kolei) ===\n",
            "lista po przypisaniu:\n",
            " [10, 20, 99, 40]\n",
            "\n",
            "=== Przypisanie elementu 0 na indeksie -1 (czyli ostatni) ===\n",
            "lista po przypisaniu:\n",
            " [10, 20, 99, 0]\n"
          ]
        }
      ]
    },
    {
      "cell_type": "code",
      "source": [
        "#===== SLICING =====\n",
        "# Używaj slicingu, jeśli chcesz zastąpić ciąg elementów inną sekwencją.\n",
        "# Pamiętaj: pierwszy parametr jest uwzględniony (inclusive), a drugi parametr jest nieuwzględniony (exclusive).\n",
        "\n",
        "\n",
        "# Zastępujemy elementy o indeksach 1,2,3 listą ['a','b']\n",
        "print('\\n=== Slicing ===')\n",
        "lista = [1, 2, 3, 4, 5]\n",
        "print('oryginalna lista: \\n', lista)\n",
        "lista[1:4] = ['a', 'b']\n",
        "print('lista po slicingu elementów o indeksie 1-4 i zastąpienie ich listą z [a, b]:\\n', lista)\n",
        "\n",
        "\n",
        "#Możesz nawet zmienić liczbę elementów:\n",
        "lista[0:2] = [100, 200, 300]\n",
        "print('lista po slicingu elementów o indeksie 0-2 i zastąpienie ich listą [100, 200, 300]:\\n', lista)\n",
        "print(lista)"
      ],
      "metadata": {
        "colab": {
          "base_uri": "https://localhost:8080/"
        },
        "id": "8QLcsdhNbJ0l",
        "outputId": "634a93dd-b328-45e4-f879-51c61ae9335e"
      },
      "execution_count": 3,
      "outputs": [
        {
          "output_type": "stream",
          "name": "stdout",
          "text": [
            "\n",
            "=== Slicing ===\n",
            "oryginalna lista: \n",
            " [1, 2, 3, 4, 5]\n",
            "lista po slicingu elementów 1-4 i zastąpienie ich listą z [a, b]:\n",
            " [1, 'a', 'b', 5]\n",
            "lista po slicingu elementów 0-2 i zastąpienie ich listą [100, 200, 300]:\n",
            " [100, 200, 300, 'b', 5]\n",
            "[100, 200, 300, 'b', 5]\n"
          ]
        }
      ]
    },
    {
      "cell_type": "code",
      "source": [
        "#===== zastępowanie elementów - dla zaawansowanych =====\n",
        "\n",
        "#zastępowanie wszystkich elementów \"red\" na \"pink\"\n",
        "print('\\n=== Zastępowanie elementów w pętli ===')\n",
        "lista_kolorów = ['red', 'blue', 'red', 'green']\n",
        "print('oryginalna lista: \\n', lista_kolorów)\n",
        "nowa_lista_kolorow = ['pink' if element == 'red' else element for element in lista_kolorów]\n",
        "print('lista po zamianie wszystkie elementów \"red\" na \"pink\":\\n', nowa_lista_kolorow)\n",
        "\n",
        "\n",
        "#wyszukanie pierwszego elementu o wartości \"b\" i zastąpienie go elementem \"beta\"\n",
        "#index() => znajduje indeks pierwszego wystąpienia danej wartości\n",
        "print('\\n=== Znajdowanie elementu po wartości i zastąpienie innym elementem ===')\n",
        "lista = ['a', 'b', 'c', 'b']\n",
        "print('oryginalna lista: \\n', lista)\n",
        "i = lista.index('b')\n",
        "lista[i] = 'beta'\n",
        "print('lista po zamianie pierwszego wystąpienia elementu \"b\" na \"beta\":\\n', lista)"
      ],
      "metadata": {
        "colab": {
          "base_uri": "https://localhost:8080/"
        },
        "id": "eVWJ-dvvbURU",
        "outputId": "52cbf363-4857-45b0-9f6a-f6e9bf04fe29"
      },
      "execution_count": 6,
      "outputs": [
        {
          "output_type": "stream",
          "name": "stdout",
          "text": [
            "\n",
            "=== Zastępowanie elementów w pętli ===\n",
            "oryginalna lista: \n",
            " ['red', 'blue', 'red', 'green']\n",
            "lista po zamianie wszystkie elementów \"red\" na \"pink\":\n",
            " ['pink', 'blue', 'pink', 'green']\n",
            "\n",
            "=== Znajdowanie elementu po wartości i zastąpienie innym elementem ===\n",
            "oryginalna lista: \n",
            " ['a', 'b', 'c', 'b']\n",
            "lista po zamianie pierwszego wystąpienia elementu \"b\" na \"beta\":\n",
            " ['a', 'beta', 'c', 'b']\n"
          ]
        }
      ]
    },
    {
      "cell_type": "code",
      "execution_count": 14,
      "metadata": {
        "colab": {
          "base_uri": "https://localhost:8080/"
        },
        "id": "AIadpDyTHYtH",
        "outputId": "ab24151b-64f6-4da6-eec7-7a6db8762fc4"
      },
      "outputs": [
        {
          "output_type": "stream",
          "name": "stdout",
          "text": [
            "\n",
            "=== Usuwanie za pomocą remove() === \n",
            "Oryginalna lista: \n",
            " [10, 20, 30, 20, 40]\n",
            "Lista po usunięciu elementu \"20\": \n",
            " [10, 30, 20, 40]\n",
            "\n",
            "=== Usuwanie za pomocą pop() === \n",
            "Oryginalna lista: \n",
            " ['a', 'b', 'c']\n",
            "Lista po usunięciu elementu z indeksu 1 (czyli drugiego): \n",
            " ['a', 'c']\n",
            "Usunięty element: \n",
            " b\n",
            "Lista po usunięciu elementu z ostatniego indeksu: \n",
            " ['a']\n",
            "Usunięty element: \n",
            " c\n"
          ]
        }
      ],
      "source": [
        "#===== USUWANIE ELEMENTU/ELEMENTÓW Z LISTY =====\n",
        "\n",
        "# remove(value) => usuwa tylko pierwsze wystąpienie danego elementu\n",
        "print('\\n=== Usuwanie za pomocą remove() === ')\n",
        "lista = [10, 20, 30, 20, 40]\n",
        "print('Oryginalna lista: \\n', lista)\n",
        "lista.remove(20)\n",
        "print('Lista po usunięciu elementu \"20\": \\n', lista)\n",
        "\n",
        "\n",
        "# pop() => usuwa po indeksie lub ostatni (jeśli pusty), zwraca usunięty element\n",
        "print('\\n=== Usuwanie za pomocą pop() === ')\n",
        "lista = ['a', 'b', 'c']\n",
        "print('Oryginalna lista: \\n', lista)\n",
        "usuniety = lista.pop(1)\n",
        "print('Lista po usunięciu elementu z indeksu 1 (czyli drugiego): \\n', lista)\n",
        "print('Usunięty element: \\n', usuniety)\n",
        "\n",
        "\n",
        "ostatni_usuniety = lista.pop()\n",
        "print('Lista po usunięciu elementu z ostatniego indeksu: \\n', lista)\n",
        "print('Usunięty element: \\n', ostatni_usuniety)"
      ]
    },
    {
      "cell_type": "code",
      "source": [
        "#===== usuwanie elementów - dla zaawansowanych =====\n",
        "\n",
        "# usuwanie bez zwracania z \"del lst\"\n",
        "print('\\n=== Usuwanie bez zwracania za pomocą del lst === ')\n",
        "lista = [1, 2, 3, 4, 5]\n",
        "print('Oryginalna lista: \\n', lista)\n",
        "del lista[2]\n",
        "print('Lista po usunięciu elementu z indeksu 2 (czyli trzeciego): \\n', lista)\n",
        "\n",
        "\n",
        "del lista[1:3]\n",
        "print('Lista po usunięciu elementów z indeksów 1-3 (czyli drugiego i trzeciego): \\n', lista)\n",
        "\n",
        "\n",
        "#czyszczenie listy z \"clear()\"\n",
        "print('\\n=== Czyszczenie listy za pomocą clear() === ')\n",
        "lista = [1,2,3]\n",
        "print('Oryginalna lista: \\n', lista)\n",
        "lista.clear()\n",
        "print('Lista po czyszczeniu: \\n', lista)\n",
        "\n",
        "\n",
        "#usuwanie za pomocą slicingu\n",
        "print('\\n=== Usuwanie fragmentu listy za pomocą slicingu === ')\n",
        "lista = [0,1,2,3,4,5]\n",
        "print('Oryginalna lista: \\n', lista)\n",
        "lista[2:5] = []\n",
        "print('Lista po slicingu indeksów 2-4 z pustą listą: \\n', lista)\n",
        "\n",
        "\n",
        "#usuwanie z pętli\n",
        "print('\\n=== Usuwanie z pętli === ')\n",
        "lista = [1,2,3,2,4]\n",
        "print('Oryginalna lista: \\n', lista)\n",
        "nowa_lista = [x for x in lista if x != 2]\n",
        "print('Kopia listy z pominiętymi wszystkimi dwójkami: \\n', nowa_lista)"
      ],
      "metadata": {
        "colab": {
          "base_uri": "https://localhost:8080/"
        },
        "id": "1-OeYPezMl2G",
        "outputId": "72cae69d-00b2-49da-aead-e40c8b95823d"
      },
      "execution_count": 20,
      "outputs": [
        {
          "output_type": "stream",
          "name": "stdout",
          "text": [
            "\n",
            "=== Usuwanie bez zwracania za pomocą del lst === \n",
            "Oryginalna lista: \n",
            " [1, 2, 3, 4, 5]\n",
            "Lista po usunięciu elementu z indeksu 2 (czyli trzeciego): \n",
            " [1, 2, 4, 5]\n",
            "Lista po usunięciu elementów z indeksów 1-3 (czyli drugiego i trzeciego): \n",
            " [1, 5]\n",
            "\n",
            "=== Czyszczenie listy za pomocą clear() === \n",
            "Oryginalna lista: \n",
            " [1, 2, 3]\n",
            "Lista po czyszczeniu: \n",
            " []\n",
            "\n",
            "=== Usuwanie fragmentu listy za pomocą slicingu === \n",
            "Oryginalna lista: \n",
            " [0, 1, 2, 3, 4, 5]\n",
            "Lista po slicingu indeksów 2-4 z pustą listą: \n",
            " [0, 1, 5]\n",
            "\n",
            "=== Usuwanie z pętli === \n",
            "Oryginalna lista: \n",
            " [1, 2, 3, 2, 4]\n",
            "Kopia listy z pominiętymi wszystkimi dwójkami: \n",
            " [1, 3, 4]\n"
          ]
        }
      ]
    },
    {
      "cell_type": "code",
      "source": [
        "#===== DODAWANIE / ODEJMOWANIE LIST =====\n",
        "\n",
        "#dodawanie list za pomocą operatora +\n",
        "print('\\n=== Dodawanie list za pomocą operatora + === ')\n",
        "lista_a = [1, 2, 3]\n",
        "lista_b = [4, 5]\n",
        "print('Oryginalne listy: \\n', lista_a, lista_b)\n",
        "lista_c = lista_a + lista_b\n",
        "print('Nowa lista utworzona z sumy dwóch list: \\n', lista_c)\n",
        "\n",
        "#extend()\n",
        "print('\\n=== Dodawanie list za pomocą metody extend() === ')\n",
        "lista_a = [1, 2, 3]\n",
        "lista_b = [4, 5]\n",
        "print('Oryginalne listy: \\n', lista_a, lista_b)\n",
        "lista_a.extend(lista_b)\n",
        "print('Listy po dodaniu listy B do listy A: \\n', lista_a, lista_b)\n",
        "\n"
      ],
      "metadata": {
        "colab": {
          "base_uri": "https://localhost:8080/"
        },
        "id": "Jw9oFM7659VX",
        "outputId": "5e4501fe-aaf5-4b54-87c3-7f5b9e93a7ac"
      },
      "execution_count": 24,
      "outputs": [
        {
          "output_type": "stream",
          "name": "stdout",
          "text": [
            "\n",
            "=== Dodawanie list za pomocą operatora + === \n",
            "Oryginalne listy: \n",
            " [1, 2, 3] [4, 5]\n",
            "Nowa lista utworzona z sumy dwóch list: \n",
            " [1, 2, 3, 4, 5]\n",
            "\n",
            "=== Dodawanie list za pomocą metody extend() === \n",
            "Oryginalne listy: \n",
            " [1, 2, 3] [4, 5]\n",
            "Listy po dodaniu listy B do listy A: \n",
            " [1, 2, 3, 4, 5] [4, 5]\n"
          ]
        }
      ]
    },
    {
      "cell_type": "code",
      "source": [
        "#===== dodawanie/odejmowanie list - dla zaawansowanych =====\n",
        "\n",
        "#dodawanie list za pomocą unpackingu\n",
        "print('\\n=== Dodawanie list za pomocą unpackingu === ')\n",
        "lista_a = [1, 2, 3]\n",
        "lista_b = [4, 5]\n",
        "print('Oryginalne listy A i B: \\n', lista_a, lista_b)\n",
        "lista_c = [*lista_a, *lista_b]\n",
        "print('Lista C po dodaniu list A i B: \\n', lista_c)\n",
        "\n",
        "#tworzenie tymczasowej listy (łańcucha) do iteracji bez tworzenia listy\n",
        "from itertools import chain\n",
        "\n",
        "print('\\n=== Dodawanie list w celu iteracji === ')\n",
        "print('Oryginalne listy A i B: \\n', lista_a, lista_b)\n",
        "lista_a = [1, 2, 3]\n",
        "lista_b = [4, 5]\n",
        "lista_c = [6, 7, 8, 9]\n",
        "\n",
        "print('Iteracja przez łańcuch z list A, B i C:')\n",
        "for x in chain(lista_a, lista_b, lista_c):\n",
        "    print(x)\n",
        "\n",
        "#uwaga! nie da się bezpośrednio wyświetlić łańcucha (to obiekt):\n",
        "print('Nie da się wyświetlić łańcucha list:')\n",
        "print(chain(a, b, c))"
      ],
      "metadata": {
        "colab": {
          "base_uri": "https://localhost:8080/"
        },
        "id": "ITMNl7E-7Jck",
        "outputId": "71e45bc3-4836-448f-9989-3362c037f952"
      },
      "execution_count": 28,
      "outputs": [
        {
          "output_type": "stream",
          "name": "stdout",
          "text": [
            "\n",
            "=== Dodawanie list za pomocą unpackingu === \n",
            "Oryginalne listy A i B: \n",
            " [1, 2, 3] [4, 5]\n",
            "Lista C po dodaniu list A i B: \n",
            " [1, 2, 3, 4, 5]\n",
            "\n",
            "=== Dodawanie list w celu iteracji === \n",
            "Oryginalne listy A i B: \n",
            " [1, 2, 3] [4, 5]\n",
            "Iteracja przez łańcuch z list A, B i C:\n",
            "1\n",
            "2\n",
            "3\n",
            "4\n",
            "5\n",
            "6\n",
            "7\n",
            "8\n",
            "9\n",
            "Nie da się wyświetlić łańcucha list:\n",
            "<itertools.chain object at 0x7983e6079b10>\n"
          ]
        }
      ]
    },
    {
      "cell_type": "code",
      "source": [
        "#===== TWORZENIE PŁYTKIEJ KOPII LISTY =====\n",
        "#Płytka kopia oznacza, że chociaż tworzymy nową listę, to wszystkie elementy\n",
        "#na tej liście pozostają te same (kopiujemy tylko referencje)\n",
        "#\n",
        "#Python nigdy nie robi głębokiej kopii niemutowalnych elementów,\n",
        "#więc to ma znaczenie tylko przy listach mutowalnych obiektów (np. lista list)\n",
        "\n",
        "#copy()\n",
        "print('\\n=== Tworzenie płytkiej kopii listy za pomocą copy() === ')\n",
        "lista = [1, 2, 3]\n",
        "płytka_kopia = lista.copy()\n",
        "print('Lista i jej płytka kopia: \\n', lista, płytka_kopia)\n",
        "print('Listy nie są sobie równe: \\n', lista is płytka_kopia)\n",
        "print('Elementy na obu listach są równe: \\n', lista[0] is płytka_kopia[0])\n",
        "\n",
        "\n",
        "#slicing [:]\n",
        "print('\\n=== Tworzenie płytkiej kopii listy za pomocą slicingu === ')\n",
        "lista = [4, 5, 6]\n",
        "płytka_kopia = lista[:]\n",
        "print('Lista i jej płytka kopia: \\n', lista, płytka_kopia)\n",
        "print('Listy nie są sobie równe: \\n', lista is płytka_kopia)\n",
        "print('Elementy na obu listach są równe: \\n', lista[0] is płytka_kopia[0])\n",
        "\n",
        "\n",
        "#za pomocą konstruktora\n",
        "print('\\n=== Tworzenie płytkiej kopii listy za pomocą konstruktora === ')\n",
        "lista = [7, 8, 9]\n",
        "płytka_kopia = list(lista)\n",
        "print('Lista i jej płytka kopia: \\n', lista, płytka_kopia)\n",
        "print('Listy nie są sobie równe: \\n', lista is płytka_kopia)\n",
        "print('Elementy na obu listach są równe: \\n', lista[0] is płytka_kopia[0])\n",
        "\n",
        "#problem z płytką kopią listy mutowalnych obiektów:\n",
        "print('\\n=== Problem z płytką kopią listy mutowalnych obiektów === ')\n",
        "\n",
        "lista = [1.23, [1, 2, 3,], 'kot']\n",
        "płytka_kopia = lista.copy()\n",
        "print('Lista i jej płytka kopia: \\n', lista, płytka_kopia)\n",
        "lista[1].append(4)\n",
        "print('Po dodaniu liczby 4 do listy wewnątrz listy, tę samą zmianę widać w kopii: \\n', lista, płytka_kopia)\n"
      ],
      "metadata": {
        "colab": {
          "base_uri": "https://localhost:8080/"
        },
        "id": "9izmQ7beCV0_",
        "outputId": "19e8c22d-7d9b-421e-c6fd-a3af815b6338"
      },
      "execution_count": 42,
      "outputs": [
        {
          "output_type": "stream",
          "name": "stdout",
          "text": [
            "\n",
            "=== Tworzenie płytkiej kopii listy za pomocą copy() === \n",
            "Lista i jej płytka kopia: \n",
            " [1, 2, 3] [1, 2, 3]\n",
            "Listy nie są sobie równe: \n",
            " False\n",
            "Elementy na obu listach są równe: \n",
            " True\n",
            "\n",
            "=== Tworzenie płytkiej kopii listy za pomocą slicingu === \n",
            "Lista i jej płytka kopia: \n",
            " [4, 5, 6] [4, 5, 6]\n",
            "Listy nie są sobie równe: \n",
            " False\n",
            "Elementy na obu listach są równe: \n",
            " True\n",
            "\n",
            "=== Tworzenie płytkiej kopii listy za pomocą konstruktora === \n",
            "Lista i jej płytka kopia: \n",
            " [7, 8, 9] [7, 8, 9]\n",
            "Listy nie są sobie równe: \n",
            " False\n",
            "Elementy na obu listach są równe: \n",
            " True\n",
            "\n",
            "=== Problem z płytką kopią listy mutowalnych obiektów === \n",
            "Lista i jej płytka kopia: \n",
            " [1.23, [1, 2, 3], 'kot'] [1.23, [1, 2, 3], 'kot']\n",
            "Po dodaniu liczby 4 do listy wewnątrz listy, tę samą zmianę widać w kopii: \n",
            " [1.23, [1, 2, 3, 4], 'kot'] [1.23, [1, 2, 3, 4], 'kot']\n"
          ]
        }
      ]
    },
    {
      "cell_type": "code",
      "source": [
        "#===== TWORZENIE GŁĘBOKIEJ KOPII LISTY =====\n",
        "#Głębokia kopia oznacza, że tworzymy nową listę i głębokie kopie wszystkich\n",
        "#elementów (nie kopiujemy tylko referencji)\n",
        "\n",
        "from copy import deepcopy\n",
        "\n",
        "print('\\n=== Tworzenie głębokiej kopii listy za pomocą biblioteki deepcopy === ')\n",
        "lista = [1, 2, 3]\n",
        "głęboka_kopia = deepcopy(lista)\n",
        "print('Lista i jej głęboka kopia: \\n', lista, głęboka_kopia)\n",
        "print('Listy nie są sobie równe: \\n', lista is głęboka_kopia)\n",
        "print('Elementy na obu listach są równe, bo są niemutowalne: \\n', lista[0] is głęboka_kopia[0])\n",
        "\n",
        "#głęboka kopia listy mutowalnych obiektów:\n",
        "print('\\n=== Głęboka kopia listy mutowalnych obiektów === ')\n",
        "\n",
        "lista = [1.23, [1, 2, 3,], 'kot']\n",
        "głęboka_kopia = deepcopy(lista)\n",
        "print('Lista i jej płytka kopia: \\n', lista, głęboka_kopia)\n",
        "lista[1].append(4)\n",
        "print('Po dodaniu liczby 4 do listy wewnątrz listy, kopia pozostała bez zmian: \\n', lista, głęboka_kopia)\n"
      ],
      "metadata": {
        "colab": {
          "base_uri": "https://localhost:8080/"
        },
        "id": "fCpSG3zxEYwm",
        "outputId": "808fb272-e043-4de3-af31-8af8477c6ba0"
      },
      "execution_count": 44,
      "outputs": [
        {
          "output_type": "stream",
          "name": "stdout",
          "text": [
            "\n",
            "=== Tworzenie głębokiej kopii listy za pomocą biblioteki deepcopy === \n",
            "Lista i jej głęboka kopia: \n",
            " [1, 2, 3] [1, 2, 3]\n",
            "Listy nie są sobie równe: \n",
            " False\n",
            "Elementy na obu listach są równe, bo są niemutowalne: \n",
            " True\n",
            "\n",
            "=== Głęboka kopia listy mutowalnych obiektów === \n",
            "Lista i jej płytka kopia: \n",
            " [1.23, [1, 2, 3], 'kot'] [1.23, [1, 2, 3], 'kot']\n",
            "Po dodaniu liczby 4 do listy wewnątrz listy, kopia pozostała bez zmian: \n",
            " [1.23, [1, 2, 3, 4], 'kot'] [1.23, [1, 2, 3], 'kot']\n"
          ]
        }
      ]
    },
    {
      "cell_type": "markdown",
      "source": [
        "#ZADANIA"
      ],
      "metadata": {
        "id": "pB_-bM-f9XZl"
      }
    },
    {
      "cell_type": "markdown",
      "source": [
        "Zrób poniższe zadania, żeby utrwalić zdobytą wiedzę.\n",
        "\n",
        "W razie potrzeby korzystaj w powyższej ściągawki."
      ],
      "metadata": {
        "id": "nKz02a809Zhj"
      }
    },
    {
      "cell_type": "code",
      "source": [
        "#===== Zadanie nr 1 =====\n",
        "\n",
        "#Ze zdania \"To be or not to be\" usuń wszystkie duplikaty.\n",
        "#! Wskazówka ! Pamiętaj, że dla komputera wielkie i małe litery to inne znaki.\n",
        "\n",
        "lista = ['To', 'be', 'or', 'not', 'to', 'be', '.']\n"
      ],
      "metadata": {
        "id": "e7t5hao19mau"
      },
      "execution_count": null,
      "outputs": []
    },
    {
      "cell_type": "code",
      "source": [
        "#===== Zadanie nr 2 =====\n",
        "\n",
        "#Dodaj do siebie dwie listy, tworząc nową listę i wydrukuj ją.\n",
        "lista_a = ['To', 'be', 'or', 'not', 'to', 'be', '.']\n",
        "lista_b = ['That', 'is', 'the', 'question', '.']\n"
      ],
      "metadata": {
        "id": "BdHgZKSA-Uah"
      },
      "execution_count": null,
      "outputs": []
    },
    {
      "cell_type": "code",
      "source": [
        "#===== Zadanie nr 3 =====\n",
        "\n",
        "#Utwórz listy ze stringów a i b.\n",
        "#Połącz je.\n",
        "#Następnie zastąp część \"karieras\" listą ['p', 'o', 'g', 'a', 'd'] i dodaj na końcu string_c.\n",
        "#Wydrukuj wynik.\n",
        "\n",
        "string_a = 'kariera'\n",
        "string_b = 'w'\n",
        "string_c = 'AI'\n",
        "string_d = 'my'\n"
      ],
      "metadata": {
        "id": "ofnlJz52-rcA"
      },
      "execution_count": null,
      "outputs": []
    }
  ]
}